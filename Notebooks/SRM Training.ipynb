{
 "cells": [
  {
   "cell_type": "code",
   "execution_count": 2,
   "metadata": {
    "scrolled": true
   },
   "outputs": [],
   "source": [
    "import cv2\n",
    "import numpy as np\n",
    "import tensorflow as tf\n",
    "import matplotlib.pyplot as plt\n",
    "import tensorflow.contrib.slim as slim\n",
    "from tf_explain.core.activations import ExtractActivations\n",
    "from tensorflow.keras import Model\n",
    "from tensorflow.keras.layers import Input, Dense, Flatten, Conv2D, MaxPooling2D, BatchNormalization, Dropout, Reshape, Concatenate, LeakyReLU\n",
    "from tensorflow.keras.preprocessing.image import ImageDataGenerator\n",
    "from tensorflow.keras.optimizers import Adam\n",
    "from tensorflow.keras.models import Model, load_model\n",
    "from sklearn.metrics import confusion_matrix, classification_report\n",
    "import seaborn as sns\n",
    "%matplotlib inline"
   ]
  },
  {
   "cell_type": "markdown",
   "metadata": {},
   "source": [
    "# SRM Filter Function"
   ]
  },
  {
   "cell_type": "code",
   "execution_count": 3,
   "metadata": {},
   "outputs": [],
   "source": [
    "#Function to apply SRM filter to get noise maps\n",
    "def srm(imgs):\n",
    "    imgs = [imgs]\n",
    "    \n",
    "    filter1 = [[0, 0, 0, 0, 0],\n",
    "               [0, -1, 2, -1, 0],\n",
    "               [0, 2, -4, 2, 0],\n",
    "               [0, -1, 2, -1, 0],\n",
    "               [0, 0, 0, 0, 0]]\n",
    "    filter2 = [[-1, 2, -2, 2, -1],\n",
    "               [2, -6, 8, -6, 2],\n",
    "               [-2, 8, -12, 8, -2],\n",
    "               [2, -6, 8, -6, 2],\n",
    "               [-1, 2, -2, 2, -1]]\n",
    "    filter3 = [[0, 0, 0, 0, 0],\n",
    "               [0, 0, 0, 0, 0],\n",
    "               [0, 1, -2, 1, 0],\n",
    "               [0, 0, 0, 0, 0],\n",
    "               [0, 0, 0, 0, 0]]\n",
    "    \n",
    "    q = [4.0, 12.0, 2.0]\n",
    "    \n",
    "    filter1 = np.asarray(filter1, dtype=float) / q[0]\n",
    "    filter2 = np.asarray(filter2, dtype=float) / q[1]\n",
    "    filter3 = np.asarray(filter3, dtype=float) / q[2]\n",
    "    filters = [[filter1, filter1, filter1], [filter2, filter2, filter2], [filter3, filter3, filter3]]\n",
    "    filters = np.einsum('klij->ijlk', filters)\n",
    "    \n",
    "    imgs = np.array(imgs, dtype=float)\n",
    "    input = tf.Variable(imgs, dtype=tf.float32)\n",
    "\n",
    "    filters = filters.flatten()\n",
    "    initializer_srm = tf.constant_initializer(filters)\n",
    "    #Using TensorFlow we apply the filter kernal\n",
    "    op = slim.conv2d(input, 3, [5, 5], trainable=False, weights_initializer=initializer_srm,\n",
    "                      activation_fn=None, padding='SAME', stride=1, scope='srm', reuse=tf.AUTO_REUSE)\n",
    "    op = truncate_2(op)\n",
    "    \n",
    "    with tf.Session() as sess:\n",
    "        sess.run(tf.initialize_all_variables())\n",
    "        res = sess.run(op)\n",
    "        \n",
    "    ress = np.array(res, dtype=float)\n",
    "    \n",
    "    return normalize(res[0])\n",
    "\n",
    "#Truncates the value to stay within the range of -2 and 2\n",
    "def truncate_2(x):\n",
    "    neg = ((x + 2) + abs(x + 2)) / 2 - 2\n",
    "    return -(-neg+2 + abs(- neg+2)) / 2 + 2\n",
    "\n",
    "#Normalizes the pixel values to range from 0 to 1\n",
    "def normalize(image):\n",
    "    im = image.astype(float)\n",
    "    return (im - np.min(im)) / (np.max(im) - np.min(im))"
   ]
  },
  {
   "cell_type": "markdown",
   "metadata": {},
   "source": [
    "# Model Creation"
   ]
  },
  {
   "cell_type": "code",
   "execution_count": 4,
   "metadata": {},
   "outputs": [],
   "source": [
    "# Height and width refer to the size of the image\n",
    "# Channels refers to the amount of color channels (red, green, blue)\n",
    "\n",
    "image_dimensions = {'height':299, 'width':299, 'channels':3}"
   ]
  },
  {
   "cell_type": "code",
   "execution_count": 5,
   "metadata": {},
   "outputs": [],
   "source": [
    "# Create a Classifier class\n",
    "\n",
    "class Classifier:\n",
    "    def __init__():\n",
    "        self.model = 0\n",
    "    \n",
    "    def predict(self, x):\n",
    "        return self.model.predict(x)\n",
    "    \n",
    "    def fit(self, x, y):\n",
    "        return self.model.train_on_batch(x, y)\n",
    "    \n",
    "    def get_accuracy(self, x, y):\n",
    "        return self.model.test_on_batch(x, y)\n",
    "    \n",
    "    def load(self, path):\n",
    "        self.model.load_weights(path)\n",
    "    def summary(self):\n",
    "        return self.model.summary()"
   ]
  },
  {
   "cell_type": "code",
   "execution_count": 6,
   "metadata": {},
   "outputs": [],
   "source": [
    "# Create a Deepfake class using the Classifier\n",
    "\n",
    "class DeepfakeModel(Classifier):\n",
    "    def __init__(self, learning_rate = 0.001):\n",
    "        self.model = self.init_model()\n",
    "        optimizer = Adam(lr = learning_rate)\n",
    "        self.model.compile(optimizer = optimizer,\n",
    "                           loss = 'binary_crossentropy',\n",
    "                           metrics = ['accuracy'])\n",
    "    \n",
    "    def init_model(self): \n",
    "        xModel=tf.keras.applications.xception.Xception(weights='imagenet',include_top=False, pooling='avg', input_shape = (299, 299, 3))\n",
    "\n",
    "        count = 0\n",
    "        for layer in xModel.layers:\n",
    "            layer.trainable = False\n",
    "            count += 1\n",
    "            if count == 36:\n",
    "                break\n",
    "        \n",
    "        output = Dense(1, activation='softmax')(xModel.output)\n",
    "\n",
    "        return Model(xModel.input, output)"
   ]
  },
  {
   "cell_type": "markdown",
   "metadata": {},
   "source": [
    "# Model Training"
   ]
  },
  {
   "cell_type": "code",
   "execution_count": 7,
   "metadata": {},
   "outputs": [
    {
     "name": "stdout",
     "output_type": "stream",
     "text": [
      "WARNING:tensorflow:From C:\\Users\\DELL\\anaconda3\\envs\\testenv\\lib\\site-packages\\tensorflow\\python\\ops\\init_ops.py:1251: calling VarianceScaling.__init__ (from tensorflow.python.ops.init_ops) with dtype is deprecated and will be removed in a future version.\n",
      "Instructions for updating:\n",
      "Call initializer instance with the dtype argument instead of passing it to the constructor\n"
     ]
    }
   ],
   "source": [
    "# Instantiate a Deepfake model with pretrained weights\n",
    "srm = DeepfakeModel()"
   ]
  },
  {
   "cell_type": "code",
   "execution_count": 8,
   "metadata": {},
   "outputs": [
    {
     "name": "stdout",
     "output_type": "stream",
     "text": [
      "Found 4800 images belonging to 2 classes.\n",
      "Found 1200 images belonging to 2 classes.\n"
     ]
    }
   ],
   "source": [
    "# Prepare image data\n",
    "\n",
    "# Rescaling pixel values (between 1 and 255) to a range between 0 and 1\n",
    "#We set training-validation split as 80-20\n",
    "train_datagen = ImageDataGenerator(rescale=1./255, validation_split=0.2, preprocessing_function = srm) # Applying filter\n",
    "\n",
    "# Instantiating generator to feed images through the network\n",
    "train_generator = train_datagen.flow_from_directory(\n",
    "    './Dataset/SRM/',\n",
    "    target_size=(299, 299),\n",
    "    batch_size=32,\n",
    "    class_mode='binary',\n",
    "    subset='training') # set as training data\n",
    "\n",
    "validation_generator = train_datagen.flow_from_directory(\n",
    "    './Dataset/SRM/', # same directory as training data\n",
    "    target_size=(299, 299),\n",
    "    batch_size=32,\n",
    "    class_mode='binary',\n",
    "    subset='validation') # set as validation data"
   ]
  },
  {
   "cell_type": "code",
   "execution_count": 9,
   "metadata": {},
   "outputs": [
    {
     "data": {
      "text/plain": [
       "{'Deepfake': 0, 'Real': 1}"
      ]
     },
     "execution_count": 9,
     "metadata": {},
     "output_type": "execute_result"
    }
   ],
   "source": [
    "# Checking class assignment\n",
    "train_generator.class_indices"
   ]
  },
  {
   "cell_type": "code",
   "execution_count": 21,
   "metadata": {},
   "outputs": [],
   "source": [
    "hist = meso.model.fit_generator(\n",
    "    train_generator,\n",
    "    steps_per_epoch = 160,\n",
    "    epochs = 10,\n",
    "    validation_data = validation_generator,\n",
    "    validation_steps = 40\n",
    ")"
   ]
  },
  {
   "cell_type": "code",
   "execution_count": 13,
   "metadata": {},
   "outputs": [
    {
     "data": {
      "image/png": "[encoded data removed]",
      "text/plain": [
       "<Figure size 432x288 with 1 Axes>"
      ]
     },
     "metadata": {
      "needs_background": "light"
     },
     "output_type": "display_data"
    }
   ],
   "source": [
    "plt.plot(epoch, hist.train_loss, label = \"Train\")\n",
    "plt.plot(epoch, hist.valid_loss, label = \"Validation\")\n",
    "plt.title(\"Loss\")\n",
    "plt.xlabel(\"Epochs\")\n",
    "plt.ylabel(\"Loss Value\")\n",
    "plt.legend()\n",
    "plt.show()"
   ]
  },
  {
   "cell_type": "code",
   "execution_count": 14,
   "metadata": {},
   "outputs": [],
   "source": [
    "srm.model.save(\"Models/srm_model.h5\")"
   ]
  },
  {
   "cell_type": "markdown",
   "metadata": {},
   "source": [
    "# Model Evaluation"
   ]
  },
  {
   "cell_type": "code",
   "execution_count": 17,
   "metadata": {},
   "outputs": [],
   "source": [
    "model = load_model('Models/srm_model.h5')"
   ]
  },
  {
   "cell_type": "code",
   "execution_count": 19,
   "metadata": {},
   "outputs": [
    {
     "name": "stdout",
     "output_type": "stream",
     "text": [
      "Found 6000 images belonging to 2 classes.\n"
     ]
    }
   ],
   "source": [
    "dataGenerator = ImageDataGenerator()\n",
    "\n",
    "generator = dataGenerator.flow_from_directory(\n",
    "    './Dataset/SRM/',\n",
    "    target_size=(256, 256),\n",
    "    batch_size=1,\n",
    "    class_mode='binary')"
   ]
  },
  {
   "cell_type": "code",
   "execution_count": 17,
   "metadata": {},
   "outputs": [
    {
     "data": {
      "text/plain": [
       "'All predictions completed'"
      ]
     },
     "execution_count": 17,
     "metadata": {},
     "output_type": "execute_result"
    }
   ],
   "source": [
    "y_pred = []\n",
    "y_act = []\n",
    "\n",
    "# Generating predictions on validation set, storing in separate lists\n",
    "for i in range(len(generator.labels)):\n",
    "    \n",
    "    # Loading next picture, generating prediction\n",
    "    X, y = generator.next()\n",
    "    X = srm(X)\n",
    "    pred = model.predict(X)[0][0]\n",
    "    \n",
    "    # Sorting into proper category\n",
    "    if round(pred)==y[0] and y[0]==1:\n",
    "        y_pred.append(1)\n",
    "        y_act.append(1)\n",
    "    elif round(pred)==y[0] and y[0]==0:\n",
    "        y_pred.append(0)\n",
    "        y_act.append(0)\n",
    "    elif y[0]==1:\n",
    "        =y_pred.append(0)\n",
    "        y_act.append(1)\n",
    "    else:\n",
    "        y_pred.append(1)\n",
    "        y_act.append(0)\n",
    "\n",
    "print(\"All predictions completed\")\n",
    "        \n",
    "        "
   ]
  },
  {
   "cell_type": "code",
   "execution_count": 19,
   "metadata": {},
   "outputs": [
    {
     "name": "stdout",
     "output_type": "stream",
     "text": [
      "              precision    recall  f1-score   support\n",
      "\n",
      "           0       0.92      0.90      0.91      3000\n",
      "           1       0.90      0.92      0.91      3000\n",
      "\n",
      "    accuracy                           0.91      6000\n",
      "   macro avg       0.91      0.91      0.91      6000\n",
      "weighted avg       0.91      0.91      0.91      6000\n",
      "\n"
     ]
    }
   ],
   "source": [
    "print(classification_report(y_act, y_pred))"
   ]
  },
  {
   "cell_type": "code",
   "execution_count": 20,
   "metadata": {},
   "outputs": [
    {
     "name": "stdout",
     "output_type": "stream",
     "text": [
      "[[2694  306]\n",
      " [ 241 2759]]\n"
     ]
    }
   ],
   "source": [
    "cm = confusion_matrix(y_act, y_pred)\n",
    "print(cm)"
   ]
  },
  {
   "cell_type": "code",
   "execution_count": 21,
   "metadata": {},
   "outputs": [
    {
     "data": {
      "text/plain": [
       "<matplotlib.axes._subplots.AxesSubplot at 0x15c3cdb7d88>"
      ]
     },
     "execution_count": 21,
     "metadata": {},
     "output_type": "execute_result"
    },
    {
     "data": {
      "image/png": "[encoded data removed]",
      "text/plain": [
       "<Figure size 432x288 with 2 Axes>"
      ]
     },
     "metadata": {
      "needs_background": "light"
     },
     "output_type": "display_data"
    }
   ],
   "source": [
    "sns.heatmap(cm,annot=True,fmt=\"d\",cmap=\"YlGnBu\")"
   ]
  },
  {
   "cell_type": "code",
   "execution_count": 23,
   "metadata": {},
   "outputs": [
    {
     "name": "stdout",
     "output_type": "stream",
     "text": [
      "Model Accuracy = 0.9088333333333334\n"
     ]
    }
   ],
   "source": [
    "correct = 0\n",
    "\n",
    "for r in range(len(cm)):\n",
    "    for c in range(len(cm)):\n",
    "        if (r==c):\n",
    "            correct += cm[r,c]\n",
    "            \n",
    "accuracy = correct/sum(sum(cm))\n",
    "print(\"Model Accuracy =\", accuracy)"
   ]
  },
  {
   "cell_type": "code",
   "execution_count": null,
   "metadata": {},
   "outputs": [],
   "source": []
  }
 ],
 "metadata": {
  "kernelspec": {
   "display_name": "Python 3 (ipykernel)",
   "language": "python",
   "name": "python3"
  },
  "language_info": {
   "codemirror_mode": {
    "name": "ipython",
    "version": 3
   },
   "file_extension": ".py",
   "mimetype": "text/x-python",
   "name": "python",
   "nbconvert_exporter": "python",
   "pygments_lexer": "ipython3",
   "version": "3.11.4"
  }
 },
 "nbformat": 4,
 "nbformat_minor": 4
}
